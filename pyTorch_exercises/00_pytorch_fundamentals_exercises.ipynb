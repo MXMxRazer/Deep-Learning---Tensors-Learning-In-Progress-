{
  "nbformat": 4,
  "nbformat_minor": 0,
  "metadata": {
    "colab": {
      "provenance": []
    },
    "kernelspec": {
      "name": "python3",
      "display_name": "Python 3"
    },
    "language_info": {
      "name": "python"
    },
    "accelerator": "GPU"
  },
  "cells": [
    {
      "cell_type": "markdown",
      "source": [
        "# 00. PyTorch Fundamentals Exercises\n",
        "\n",
        "### 1. Documentation reading\n",
        "\n",
        "A big part of deep learning (and learning to code in general) is getting familiar with the documentation of a certain framework you're using. We'll be using the PyTorch documentation a lot throughout the rest of this course. So I'd recommend spending 10-minutes reading the following (it's okay if you don't get some things for now, the focus is not yet full understanding, it's awareness):\n",
        "  * The documentation on [`torch.Tensor`](https://pytorch.org/docs/stable/tensors.html#torch-tensor).\n",
        "  * The documentation on [`torch.cuda`](https://pytorch.org/docs/master/notes/cuda.html#cuda-semantics).\n",
        "\n"
      ],
      "metadata": {
        "id": "AzDBM_v4iMe7"
      }
    },
    {
      "cell_type": "code",
      "source": [
        "# No code solution (reading) => DONE!"
      ],
      "metadata": {
        "id": "bGD0oD8Kizak"
      },
      "execution_count": 11,
      "outputs": []
    },
    {
      "cell_type": "markdown",
      "source": [
        "### 2. Create a random tensor with shape `(7, 7)`.\n"
      ],
      "metadata": {
        "id": "__iXqqz-ioUJ"
      }
    },
    {
      "cell_type": "code",
      "source": [
        "# Import torch\n",
        "import torch;\n",
        "\n",
        "# Create random tensor\n",
        "x = torch.rand(7, 7);\n",
        "x"
      ],
      "metadata": {
        "id": "6pUq9Dc8i2L7",
        "colab": {
          "base_uri": "https://localhost:8080/"
        },
        "outputId": "f54d80de-bb26-4413-bb45-75ce6d66926c"
      },
      "execution_count": 3,
      "outputs": [
        {
          "output_type": "execute_result",
          "data": {
            "text/plain": [
              "tensor([[6.6902e-01, 4.0750e-02, 9.5594e-01, 7.3230e-01, 1.2338e-01, 3.8637e-01,\n",
              "         7.7785e-01],\n",
              "        [4.4464e-01, 2.7420e-01, 3.8223e-01, 1.7261e-01, 4.0348e-01, 4.2924e-02,\n",
              "         1.8723e-01],\n",
              "        [6.6532e-02, 4.2132e-01, 7.2517e-02, 1.4433e-02, 7.3250e-01, 8.9414e-01,\n",
              "         8.0745e-02],\n",
              "        [1.5314e-01, 1.5203e-01, 5.4707e-01, 6.1480e-01, 3.8773e-01, 7.0418e-01,\n",
              "         4.5856e-01],\n",
              "        [7.2078e-01, 8.8213e-02, 1.4472e-04, 4.7883e-01, 4.8788e-01, 8.8104e-01,\n",
              "         4.1777e-01],\n",
              "        [4.5211e-01, 3.8966e-01, 4.8509e-01, 1.0226e-01, 1.6235e-01, 6.0580e-02,\n",
              "         7.5584e-01],\n",
              "        [7.4759e-01, 5.5740e-01, 2.4767e-01, 7.8886e-01, 7.4519e-01, 5.9110e-01,\n",
              "         7.5758e-01]])"
            ]
          },
          "metadata": {},
          "execution_count": 3
        }
      ]
    },
    {
      "cell_type": "markdown",
      "source": [
        "### 3. Perform a matrix multiplication on the tensor from 2 with another random tensor with shape `(1, 7)` (hint: you may have to transpose the second tensor)."
      ],
      "metadata": {
        "id": "9-XxvRLfiqkR"
      }
    },
    {
      "cell_type": "code",
      "source": [
        "# Create another random tensor\n",
        "y = torch.rand(1, 7);\n",
        "z = torch.transpose(y, 0, 1);\n",
        "# Perform matrix multiplication\n",
        "muled = torch.matmul(x, z)\n",
        "print(f\"Multiplied Matrix: \\n{muled}\");"
      ],
      "metadata": {
        "id": "NcLqR0Sbi_vT",
        "colab": {
          "base_uri": "https://localhost:8080/"
        },
        "outputId": "f281f2ec-4874-4b8f-d41c-8e7f9caf209e"
      },
      "execution_count": 4,
      "outputs": [
        {
          "output_type": "stream",
          "name": "stdout",
          "text": [
            "Multiplied Matrix: \n",
            "tensor([[2.4096],\n",
            "        [1.1563],\n",
            "        [1.4855],\n",
            "        [2.0528],\n",
            "        [1.8983],\n",
            "        [1.4600],\n",
            "        [2.6994]])\n"
          ]
        }
      ]
    },
    {
      "cell_type": "markdown",
      "source": [
        "### 4. Set the random seed to `0` and do 2 & 3 over again.\n",
        "\n",
        "The output should be:\n",
        "```\n",
        "(tensor([[1.8542],\n",
        "         [1.9611],\n",
        "         [2.2884],\n",
        "         [3.0481],\n",
        "         [1.7067],\n",
        "         [2.5290],\n",
        "         [1.7989]]), torch.Size([7, 1]))\n",
        "```"
      ],
      "metadata": {
        "id": "eiutdKUFiryU"
      }
    },
    {
      "cell_type": "code",
      "source": [
        "# Set manual seed\n",
        "torch.manual_seed(0)\n",
        "\n",
        "# Create two random tensors\n",
        "x = torch.rand(7, 7);\n",
        "y = torch.rand(1, 7);\n",
        "z = torch.transpose(y, 0, 1);\n",
        "# Matrix multiply tensors\n",
        "muled = torch.matmul(x, z)\n",
        "print(f\"Multiplied Matrix: \\n{muled} {muled.size()}\");"
      ],
      "metadata": {
        "id": "D-lOWI_1jRMm",
        "colab": {
          "base_uri": "https://localhost:8080/"
        },
        "outputId": "8d32af9d-d708-4385-d0a4-711a1c647039"
      },
      "execution_count": 5,
      "outputs": [
        {
          "output_type": "stream",
          "name": "stdout",
          "text": [
            "Multiplied Matrix: \n",
            "tensor([[1.8542],\n",
            "        [1.9611],\n",
            "        [2.2884],\n",
            "        [3.0481],\n",
            "        [1.7067],\n",
            "        [2.5290],\n",
            "        [1.7989]]) torch.Size([7, 1])\n"
          ]
        }
      ]
    },
    {
      "cell_type": "markdown",
      "source": [
        "### 5. Speaking of random seeds, we saw how to set it with `torch.manual_seed()` but is there a GPU equivalent? (hint: you'll need to look into the documentation for `torch.cuda` for this one)\n",
        "  * If there is, set the GPU random seed to `1234`."
      ],
      "metadata": {
        "id": "ezY6ks9Cis37"
      }
    },
    {
      "cell_type": "code",
      "source": [
        "# Set random seed on the GPU\n",
        "torch.cuda.manual_seed(1234)"
      ],
      "metadata": {
        "id": "_LKWcfSTjp00"
      },
      "execution_count": 6,
      "outputs": []
    },
    {
      "cell_type": "markdown",
      "source": [
        "\n",
        "### 6. Create two random tensors of shape `(2, 3)` and send them both to the GPU (you'll need access to a GPU for this). Set `torch.manual_seed(1234)` when creating the tensors (this doesn't have to be the GPU random seed). The output should be something like:\n",
        "\n",
        "```\n",
        "Device: cuda\n",
        "(tensor([[0.0290, 0.4019, 0.2598],\n",
        "         [0.3666, 0.0583, 0.7006]], device='cuda:0'),\n",
        " tensor([[0.0518, 0.4681, 0.6738],\n",
        "         [0.3315, 0.7837, 0.5631]], device='cuda:0'))\n",
        "```"
      ],
      "metadata": {
        "id": "Ir9qSaj6it4n"
      }
    },
    {
      "cell_type": "code",
      "source": [
        "from torch.cuda import is_available\n",
        "# Set random seed\n",
        "torch.cuda.manual_seed(1234)\n",
        "\n",
        "# Check for access to GPU\n",
        "device = \"cuda\" if (torch.cuda.is_available) else \"cpu\";\n",
        "# Create two random tensors on GPU\n",
        "tensor_x = torch.rand(2, 3);\n",
        "tensor_y = torch.rand(2, 3);\n",
        "tensor_x_gpu = tensor_x.to(device);\n",
        "tensor_y_gpu = tensor_y.to(device);\n",
        "\n",
        "print(f'''Device: {device}\n",
        "      \\n Tensor X (on GPU): {tensor_x_gpu}\n",
        "      \\n Tensor Y (on GPU): {tensor_y_gpu}''');"
      ],
      "metadata": {
        "id": "azXExiFZj5nm",
        "colab": {
          "base_uri": "https://localhost:8080/"
        },
        "outputId": "4d85e0e6-76b2-4787-eda8-9e89ff9b621d"
      },
      "execution_count": 7,
      "outputs": [
        {
          "output_type": "stream",
          "name": "stdout",
          "text": [
            "Device: cuda\n",
            "      \n",
            " Tensor X (on GPU): tensor([[0.5932, 0.1123, 0.1535],\n",
            "        [0.2417, 0.7262, 0.7011]], device='cuda:0')\n",
            "      \n",
            " Tensor Y (on GPU): tensor([[0.2038, 0.6511, 0.7745],\n",
            "        [0.4369, 0.5191, 0.6159]], device='cuda:0')\n"
          ]
        }
      ]
    },
    {
      "cell_type": "markdown",
      "source": [
        "\n",
        "### 7. Perform a matrix multiplication on the tensors you created in 6 (again, you may have to adjust the shapes of one of the tensors).\n",
        "\n",
        "The output should look like:\n",
        "```\n",
        "(tensor([[0.3647, 0.4709],\n",
        "         [0.5184, 0.5617]], device='cuda:0'), torch.Size([2, 2]))\n",
        "```"
      ],
      "metadata": {
        "id": "5TlAxeiSiu1y"
      }
    },
    {
      "cell_type": "code",
      "source": [
        "# Perform matmul on tensor_A and tensor_B\n",
        "tensor_y_gpu_trans = torch.transpose(tensor_y_gpu, 1, 0);\n",
        "matrix_multiplication = torch.matmul(tensor_x_gpu,\n",
        "                                     tensor_y_gpu_trans);\n",
        "print(f\"Matrix Mulitplied: {matrix_multiplication} {matrix_multiplication.size()}\");"
      ],
      "metadata": {
        "id": "fAeG7ox0lHEO",
        "colab": {
          "base_uri": "https://localhost:8080/"
        },
        "outputId": "c44c7026-f9bc-41fb-a1ad-914f6b3fc3e9"
      },
      "execution_count": 8,
      "outputs": [
        {
          "output_type": "stream",
          "name": "stdout",
          "text": [
            "Matrix Mulitplied: tensor([[0.3129, 0.4120],\n",
            "        [1.0651, 0.9143]], device='cuda:0') torch.Size([2, 2])\n"
          ]
        }
      ]
    },
    {
      "cell_type": "markdown",
      "source": [
        "### 8. Find the maximum and minimum values of the output of 7."
      ],
      "metadata": {
        "id": "G7qfa5CSivwg"
      }
    },
    {
      "cell_type": "code",
      "source": [
        "# Find max\n",
        "print(f\"Max: {matrix_multiplication.max()}\");\n",
        "# Find min\n",
        "print(f\"Min: {matrix_multiplication.min()}\");"
      ],
      "metadata": {
        "id": "Fu8_3mZpllOd",
        "colab": {
          "base_uri": "https://localhost:8080/"
        },
        "outputId": "22849aaa-057f-43d7-d764-8fdae47b6b28"
      },
      "execution_count": 9,
      "outputs": [
        {
          "output_type": "stream",
          "name": "stdout",
          "text": [
            "Max: 1.0650615692138672\n",
            "Min: 0.31289684772491455\n"
          ]
        }
      ]
    },
    {
      "cell_type": "markdown",
      "source": [
        "### 9. Find the maximum and minimum index values of the output of 7."
      ],
      "metadata": {
        "id": "wrTj5FgNiw47"
      }
    },
    {
      "cell_type": "code",
      "source": [
        "from numpy import unravel_index;\n",
        "\n",
        "# Find arg max\n",
        "print(f\"Argumental Max: {matrix_multiplication.argmax()}\")\n",
        "# Find arg min\n",
        "print(f\"Argumental Min: {matrix_multiplication.argmin()}\")\n",
        "\n",
        "# Max Value from arg max\n",
        "max_value = unravel_index(matrix_multiplication.cpu().argmax(), matrix_multiplication.cpu().shape);\n",
        "print(f\"Unravel Indexing (Max): {matrix_multiplication[max_value]}\");\n",
        "# # Min Value from arg min\n",
        "min_value = unravel_index(matrix_multiplication.cpu().argmin(), matrix_multiplication.cpu().shape);\n",
        "print(f\"Unravel Indexing (Min): {matrix_multiplication[min_value]}\");"
      ],
      "metadata": {
        "id": "CCEKt4K2lsfQ",
        "colab": {
          "base_uri": "https://localhost:8080/"
        },
        "outputId": "5746c2c7-b6a2-4aa3-bd58-6c46a6b62d10"
      },
      "execution_count": 10,
      "outputs": [
        {
          "output_type": "stream",
          "name": "stdout",
          "text": [
            "Argumental Max: 2\n",
            "Argumental Min: 0\n",
            "Unravel Indexing (Max): 1.0650615692138672\n",
            "Unravel Indexing (Min): 0.31289684772491455\n"
          ]
        }
      ]
    },
    {
      "cell_type": "markdown",
      "source": [
        "\n",
        "### 10. Make a random tensor with shape `(1, 1, 1, 10)` and then create a new tensor with all the `1` dimensions removed to be left with a tensor of shape `(10)`. Set the seed to `7` when you create it and print out the first tensor and it's shape as well as the second tensor and it's shape.\n",
        "\n",
        "The output should look like:\n",
        "\n",
        "```\n",
        "tensor([[[[0.5349, 0.1988, 0.6592, 0.6569, 0.2328, 0.4251, 0.2071, 0.6297,\n",
        "           0.3653, 0.8513]]]]) torch.Size([1, 1, 1, 10])\n",
        "tensor([0.5349, 0.1988, 0.6592, 0.6569, 0.2328, 0.4251, 0.2071, 0.6297, 0.3653,\n",
        "        0.8513]) torch.Size([10])\n",
        "```"
      ],
      "metadata": {
        "id": "hmeybz4uixy7"
      }
    },
    {
      "cell_type": "code",
      "source": [
        "# Set seed\n",
        "torch.manual_seed(7)\n",
        "\n",
        "# Create random tensor\n",
        "rand_tensor = torch.rand(1, 1, 1, 10);\n",
        "\n",
        "# Remove single dimensions\n",
        "final_tensor = torch.squeeze(rand_tensor);\n",
        "\n",
        "# Print out tensors and their shapes\n",
        "print(f\"Initial Random Tensor: {rand_tensor}\\nInitial Size: {rand_tensor.size()}\\nFinal Tensor: {final_tensor}\\nFinal Size: {final_tensor.size()}\");"
      ],
      "metadata": {
        "id": "TQ9zbRzVl1jV",
        "colab": {
          "base_uri": "https://localhost:8080/"
        },
        "outputId": "1bdc5dc1-8f62-41b3-f3ed-7ca651e4ea96"
      },
      "execution_count": 15,
      "outputs": [
        {
          "output_type": "stream",
          "name": "stdout",
          "text": [
            "Initial Random Tensor: tensor([[[[0.5349, 0.1988, 0.6592, 0.6569, 0.2328, 0.4251, 0.2071, 0.6297,\n",
            "           0.3653, 0.8513]]]])\n",
            "Initial Size: torch.Size([1, 1, 1, 10])\n",
            "Final Tensor: tensor([0.5349, 0.1988, 0.6592, 0.6569, 0.2328, 0.4251, 0.2071, 0.6297, 0.3653,\n",
            "        0.8513])\n",
            "Final Size: torch.Size([10])\n"
          ]
        }
      ]
    }
  ]
}