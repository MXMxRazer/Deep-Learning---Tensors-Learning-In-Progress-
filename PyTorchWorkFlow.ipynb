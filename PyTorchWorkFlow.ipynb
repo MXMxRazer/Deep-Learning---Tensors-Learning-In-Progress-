{
  "nbformat": 4,
  "nbformat_minor": 0,
  "metadata": {
    "colab": {
      "provenance": [],
      "authorship_tag": "ABX9TyOLaGPOkNhSuT6FdKC7nGhH",
      "include_colab_link": true
    },
    "kernelspec": {
      "name": "python3",
      "display_name": "Python 3"
    },
    "language_info": {
      "name": "python"
    }
  },
  "cells": [
    {
      "cell_type": "markdown",
      "metadata": {
        "id": "view-in-github",
        "colab_type": "text"
      },
      "source": [
        "<a href=\"https://colab.research.google.com/github/MXMxRazer/Deep-Learning---Tensors-Learning-In-Progress-/blob/main/PyTorchWorkFlow.ipynb\" target=\"_parent\"><img src=\"https://colab.research.google.com/assets/colab-badge.svg\" alt=\"Open In Colab\"/></a>"
      ]
    },
    {
      "cell_type": "markdown",
      "source": [
        "## PyTorch WorkFlow"
      ],
      "metadata": {
        "id": "2rEs_cs4dDAy"
      }
    },
    {
      "cell_type": "code",
      "source": [
        "import torch\n",
        "from torch import nn ## basic building block of the pyTorch (nn = Neural Networks)\n",
        "import matplotlib.pyplot as plt\n",
        "\n",
        "\n",
        "# Check Pytorch version\n",
        "torch.__version__"
      ],
      "metadata": {
        "colab": {
          "base_uri": "https://localhost:8080/",
          "height": 36
        },
        "id": "Z8658eowYECN",
        "outputId": "bc196793-d95f-408e-8a59-338a1a1ada4d"
      },
      "execution_count": null,
      "outputs": [
        {
          "output_type": "execute_result",
          "data": {
            "text/plain": [
              "'2.1.0+cu118'"
            ],
            "application/vnd.google.colaboratory.intrinsic+json": {
              "type": "string"
            }
          },
          "metadata": {},
          "execution_count": 2
        }
      ]
    },
    {
      "cell_type": "markdown",
      "source": [
        "## Data Preparing / Loading\n",
        "\n",
        "Data can be literally anything... in ML.\n",
        "\n",
        "* Excel Sheet\n",
        "* Images\n",
        "* Videos\n",
        "* DNA\n",
        "* Text\n",
        "* Audio"
      ],
      "metadata": {
        "id": "3QuhESi7YiXE"
      }
    },
    {
      "cell_type": "markdown",
      "source": [
        "### Parts of Machine Learning:\n",
        "\n",
        "1. Convert the data set into numerical format.\n",
        "2. Generate a model that can efficiently learn the patterns in the numeric dataset."
      ],
      "metadata": {
        "id": "dzdjVixkZA8c"
      }
    },
    {
      "cell_type": "markdown",
      "source": [
        "Using Linear Algebric Function in Deep Learning.\n",
        "Making a straing line with known parameters."
      ],
      "metadata": {
        "id": "SeWHHT5cZOni"
      }
    },
    {
      "cell_type": "code",
      "source": [
        "# Create Known Parameters\n"
      ],
      "metadata": {
        "id": "dwoQ_LvxZtlH"
      },
      "execution_count": null,
      "outputs": []
    }
  ]
}